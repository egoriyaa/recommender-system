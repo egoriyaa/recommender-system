{
  "nbformat": 4,
  "nbformat_minor": 0,
  "metadata": {
    "colab": {
      "name": "kaggle_word2vec.ipynb",
      "provenance": [],
      "collapsed_sections": []
    },
    "kernelspec": {
      "display_name": "Python 3",
      "name": "python3"
    },
    "accelerator": "GPU"
  },
  "cells": [
    {
      "cell_type": "code",
      "metadata": {
        "colab": {
          "base_uri": "https://localhost:8080/"
        },
        "id": "z7siEUsnh-nL",
        "outputId": "9051ca29-665f-47ed-c7ee-f74269223d00"
      },
      "source": [
        "import pandas as pd\n",
        "import numpy as np\n",
        "from google.colab import drive\n",
        "from google.colab import files\n",
        "from sklearn.model_selection import cross_val_score\n",
        "import time\n",
        "import datetime\n",
        "from sklearn.model_selection import KFold\n",
        "drive.mount('/content/drive')"
      ],
      "execution_count": null,
      "outputs": [
        {
          "output_type": "stream",
          "text": [
            "Drive already mounted at /content/drive; to attempt to forcibly remount, call drive.mount(\"/content/drive\", force_remount=True).\n"
          ],
          "name": "stdout"
        }
      ]
    },
    {
      "cell_type": "code",
      "metadata": {
        "id": "ZFhUZCjiiGuJ"
      },
      "source": [
        "df = pd.read_csv(\"/content/drive/My Drive/Проект 'рекомендательная система для магазина'/data.csv\")\n",
        "\n",
        "Invoices = df['Invoice'].unique()\n",
        "indexes = []\n",
        "for i in range(len(Invoices)):\n",
        "    if Invoices[i][0] == 'C':\n",
        "        indexes.append(i)\n",
        "Invoices_n = np.delete(Invoices, indexes)\n",
        "df = df.loc[df['Invoice'].isin(Invoices_n)]\n",
        "df_c = df[['StockCode', 'Customer ID']].copy()\n",
        "df_c = df_c.dropna()\n",
        "df_c = df_c.reset_index(drop = True)\n",
        "\n",
        "dicti = {}\n",
        "for i in df_c['Customer ID'].unique():\n",
        "    dicti[i] = (df_c[df_c['Customer ID'] == i]['StockCode']).tolist()"
      ],
      "execution_count": null,
      "outputs": []
    },
    {
      "cell_type": "code",
      "metadata": {
        "colab": {
          "base_uri": "https://localhost:8080/"
        },
        "id": "NGtdpDlmAHtJ",
        "outputId": "c58be85e-5b3a-4bac-e94f-7d5a22c6e5b7"
      },
      "source": [
        "one_buyers=[]\n",
        "last_thing=[]\n",
        "for i in dicti.keys():\n",
        "    if len(dicti[i])==1:\n",
        "        one_buyers.append(i)\n",
        "for i in one_buyers:\n",
        "    del dicti[i]\n",
        "for i in dicti.keys():\n",
        "    last_thing.append(dicti[i][-1])\n",
        "\n",
        "data=[]\n",
        "for i in dicti.keys():\n",
        "    data.append(dicti[i])\n",
        "len(data)"
      ],
      "execution_count": null,
      "outputs": [
        {
          "output_type": "execute_result",
          "data": {
            "text/plain": [
              "5767"
            ]
          },
          "metadata": {
            "tags": []
          },
          "execution_count": 28
        }
      ]
    },
    {
      "cell_type": "code",
      "metadata": {
        "id": "E4OJGsZKl4NI"
      },
      "source": [
        "from sklearn.model_selection import train_test_split\n",
        "from gensim.models import word2vec\n",
        "import pickle\n",
        "from google.colab import files\n",
        "\n",
        "model = word2vec.Word2Vec(data, size=150, window=3, workers=4)\n",
        "\n",
        "#создадим словарь со словами и соответсвующими им векторами\n",
        "w2v = dict(zip(model.wv.index2word, model.wv.vectors))"
      ],
      "execution_count": null,
      "outputs": []
    },
    {
      "cell_type": "code",
      "metadata": {
        "colab": {
          "base_uri": "https://localhost:8080/"
        },
        "id": "EjV3mZr7l4mc",
        "outputId": "0137211e-0bd0-4c90-e01b-f860d62012a5"
      },
      "source": [
        "class mean_vectorizer(object):\n",
        "    def __init__(self, word2vec):\n",
        "        self.word2vec = word2vec\n",
        "        self.dim = len(next(iter(w2v.values())))\n",
        "\n",
        "    def fit(self, X):\n",
        "        return self \n",
        "\n",
        "    def transform(self, X):\n",
        "        return np.array([\n",
        "            np.mean([self.word2vec[w] for w in words if w in self.word2vec] \n",
        "                    or [np.zeros(self.dim)], axis=0)\n",
        "            for words in X\n",
        "        ])\n",
        "\n",
        "data_mean=mean_vectorizer(w2v).fit(data).transform(data)\n",
        "data_mean.shape"
      ],
      "execution_count": null,
      "outputs": [
        {
          "output_type": "execute_result",
          "data": {
            "text/plain": [
              "(5767, 150)"
            ]
          },
          "metadata": {
            "tags": []
          },
          "execution_count": 30
        }
      ]
    },
    {
      "cell_type": "code",
      "metadata": {
        "colab": {
          "base_uri": "https://localhost:8080/"
        },
        "id": "BS-FVlhdSY8Q",
        "outputId": "e5cf7613-9269-43a9-9a8c-4be15a64cf33"
      },
      "source": [
        "!pip install catboost "
      ],
      "execution_count": null,
      "outputs": [
        {
          "output_type": "stream",
          "text": [
            "Requirement already satisfied: catboost in /usr/local/lib/python3.7/dist-packages (0.24.4)\n",
            "Requirement already satisfied: matplotlib in /usr/local/lib/python3.7/dist-packages (from catboost) (3.2.2)\n",
            "Requirement already satisfied: scipy in /usr/local/lib/python3.7/dist-packages (from catboost) (1.4.1)\n",
            "Requirement already satisfied: pandas>=0.24.0 in /usr/local/lib/python3.7/dist-packages (from catboost) (1.1.5)\n",
            "Requirement already satisfied: six in /usr/local/lib/python3.7/dist-packages (from catboost) (1.15.0)\n",
            "Requirement already satisfied: plotly in /usr/local/lib/python3.7/dist-packages (from catboost) (4.4.1)\n",
            "Requirement already satisfied: graphviz in /usr/local/lib/python3.7/dist-packages (from catboost) (0.10.1)\n",
            "Requirement already satisfied: numpy>=1.16.0 in /usr/local/lib/python3.7/dist-packages (from catboost) (1.19.5)\n",
            "Requirement already satisfied: kiwisolver>=1.0.1 in /usr/local/lib/python3.7/dist-packages (from matplotlib->catboost) (1.3.1)\n",
            "Requirement already satisfied: python-dateutil>=2.1 in /usr/local/lib/python3.7/dist-packages (from matplotlib->catboost) (2.8.1)\n",
            "Requirement already satisfied: cycler>=0.10 in /usr/local/lib/python3.7/dist-packages (from matplotlib->catboost) (0.10.0)\n",
            "Requirement already satisfied: pyparsing!=2.0.4,!=2.1.2,!=2.1.6,>=2.0.1 in /usr/local/lib/python3.7/dist-packages (from matplotlib->catboost) (2.4.7)\n",
            "Requirement already satisfied: pytz>=2017.2 in /usr/local/lib/python3.7/dist-packages (from pandas>=0.24.0->catboost) (2018.9)\n",
            "Requirement already satisfied: retrying>=1.3.3 in /usr/local/lib/python3.7/dist-packages (from plotly->catboost) (1.3.3)\n"
          ],
          "name": "stdout"
        }
      ]
    },
    {
      "cell_type": "code",
      "metadata": {
        "id": "mN5utfYgVWnF"
      },
      "source": [
        "x_train, x_test, y_train, y_test = train_test_split(data_mean, last_thing, test_size=0.2, random_state=42)"
      ],
      "execution_count": null,
      "outputs": []
    },
    {
      "cell_type": "code",
      "metadata": {
        "colab": {
          "base_uri": "https://localhost:8080/"
        },
        "id": "hrVqhX_ShxHT",
        "outputId": "21bb0a00-07aa-43ad-ee61-4fe2bb60c0ab"
      },
      "source": [
        "from sklearn.ensemble import RandomForestClassifier\n",
        "from sklearn.model_selection import GridSearchCV\n",
        "start_time = datetime.datetime.now()\n",
        "fold = KFold(n_splits=5, shuffle=True, random_state=241)\n",
        "parameters = {'n_estimators': [100]}\n",
        "clf = RandomForestClassifier(random_state=241,n_jobs=-1)\n",
        "print(clf.get_params().keys())\n",
        "grid = GridSearchCV(clf, param_grid=parameters, scoring='accuracy', cv=fold)\n",
        "grid.fit(x_train, y_train)\n",
        "print('gs.best_score_:', grid.best_score_, '\\n', 'gs.best_parameters_:', grid.best_params_)\n",
        "print('Time elapsed:', datetime.datetime.now() - start_time)"
      ],
      "execution_count": null,
      "outputs": [
        {
          "output_type": "stream",
          "text": [
            "dict_keys(['bootstrap', 'ccp_alpha', 'class_weight', 'criterion', 'max_depth', 'max_features', 'max_leaf_nodes', 'max_samples', 'min_impurity_decrease', 'min_impurity_split', 'min_samples_leaf', 'min_samples_split', 'min_weight_fraction_leaf', 'n_estimators', 'n_jobs', 'oob_score', 'random_state', 'verbose', 'warm_start'])\n"
          ],
          "name": "stdout"
        }
      ]
    },
    {
      "cell_type": "code",
      "metadata": {
        "colab": {
          "base_uri": "https://localhost:8080/"
        },
        "id": "4ZoKCGJOSaJ5",
        "outputId": "7f2634aa-c108-4d88-ada4-f5cd9696753a"
      },
      "source": [
        "from lightgbm import LGBMClassifier\n",
        "from sklearn.model_selection import cross_val_score\n",
        "import time\n",
        "import datetime\n",
        "from sklearn.model_selection import KFold\n",
        "start_time = datetime.datetime.now()\n",
        "params = {\n",
        "      #\"objective\":\"multiclass\", \n",
        "      #\"metric\":\"rmse\",\n",
        "      \"learning_rate\":0.005,\n",
        "      \"num_leaves\":50,\n",
        "      \"min_child_samples\":20,\n",
        "      \"sub_feature\":0.4,\n",
        "     \"sub_row\":1,\n",
        "     \"subsample_freq\":0,\n",
        "      \"lambda_l1\":4.6,\n",
        "      \"lambda_l2\":1,\n",
        "      \"random_state\":17,\n",
        "       \"n_estimators\":100}\n",
        "model = LGBMClassifier(**params,)\n",
        "fold = KFold(n_splits=3, shuffle=True, random_state=241)\n",
        "scores= cross_val_score(model, x_train, y_train, cv=fold, scoring='accuracy')\n",
        "print(scores.mean())\n",
        "print('Time elapsed:', datetime.datetime.now() - start_time)\n",
        "#model.fit(x_train,y_train, verbose=True)"
      ],
      "execution_count": null,
      "outputs": [
        {
          "output_type": "stream",
          "text": [
            "0.04920965554467902\n",
            "Time elapsed: 0:04:28.495120\n"
          ],
          "name": "stdout"
        }
      ]
    },
    {
      "cell_type": "code",
      "metadata": {
        "colab": {
          "base_uri": "https://localhost:8080/"
        },
        "id": "7_aP8m5XXVTW",
        "outputId": "0382747c-f2db-4a90-ebea-f3ac479d03cf"
      },
      "source": [
        "#model.fit(x_train,y_train)\n",
        "proba = model.predict_proba(x_test)\n",
        "\n",
        "pos = 0\n",
        "j=0\n",
        "for i in proba:\n",
        "  index = np.argpartition(i, -5)[-5:]\n",
        "  classes = model.classes_[index]\n",
        "  if y_test[j] in classes:\n",
        "    pos += 1\n",
        "  j += 1\n",
        "accuracy = pos/len(y_test)\n",
        "\n",
        "print(\"accuracy:\",accuracy)"
      ],
      "execution_count": null,
      "outputs": [
        {
          "output_type": "stream",
          "text": [
            "accuracy: 0.13258232235701906\n"
          ],
          "name": "stdout"
        }
      ]
    },
    {
      "cell_type": "code",
      "metadata": {
        "colab": {
          "base_uri": "https://localhost:8080/"
        },
        "id": "xXcMYU6UKkjX",
        "outputId": "ab0cfe97-1c4a-453f-c09f-c18bb867b484"
      },
      "source": [
        "from sklearn.multiclass import OneVsRestClassifier\n",
        "from sklearn.model_selection import GridSearchCV\n",
        "from sklearn.tree import DecisionTreeClassifier\n",
        "from sklearn.ensemble import RandomForestClassifier\n",
        "from sklearn.linear_model import LogisticRegression\n",
        "from sklearn.model_selection import KFold\n",
        "from sklearn.svm import SVC\n",
        "from sklearn import metrics\n",
        "import time\n",
        "import datetime\n",
        "from sklearn.preprocessing import StandardScaler\n",
        "from sklearn.metrics import accuracy_score\n",
        "\n",
        "X_train, X_test, y_train, y_test = train_test_split(data_mean, last_thing, test_size=0.33, random_state=42)\n",
        "for C in [0.1,1,10]:\n",
        "    start_time = datetime.datetime.now()\n",
        "    clf = LogisticRegression(C=C, random_state=241,multi_class='ovr', tol=0.001, n_jobs=-1)\n",
        "    clf.fit(X_train,y_train)\n",
        "\n",
        "    proba = clf.predict_proba(X_test)\n",
        "    pos = 0\n",
        "    j=0\n",
        "    for i in proba:\n",
        "      index = np.argpartition(i, -5)[-5:]\n",
        "      classes = clf.classes_[index]\n",
        "      if y_test[j] in classes:\n",
        "        pos += 1\n",
        "      j += 1\n",
        "    accuracy = pos/len(y_test)\n",
        "    print('Time elapsed:', datetime.datetime.now() - start_time)\n",
        "    print(\"accuracy:\",accuracy)    "
      ],
      "execution_count": null,
      "outputs": [
        {
          "output_type": "stream",
          "text": [
            "Time elapsed: 0:04:41.813805\n",
            "accuracy: 0.12920168067226892\n",
            "Time elapsed: 0:05:58.040455\n",
            "accuracy: 0.14390756302521007\n",
            "Time elapsed: 0:10:46.783351\n",
            "accuracy: 0.14653361344537816\n"
          ],
          "name": "stdout"
        }
      ]
    },
    {
      "cell_type": "code",
      "metadata": {
        "colab": {
          "base_uri": "https://localhost:8080/",
          "height": 17
        },
        "id": "5pvtglXvU1eD",
        "outputId": "bf8d2e97-bd74-4a88-8738-00280dcff9c2"
      },
      "source": [
        "ml_file = open(\"clf.pkl\",'wb')\n",
        "pickle.dump(clf, ml_file)\n",
        "files.download(\"clf.pkl\")"
      ],
      "execution_count": null,
      "outputs": [
        {
          "output_type": "display_data",
          "data": {
            "application/javascript": [
              "\n",
              "    async function download(id, filename, size) {\n",
              "      if (!google.colab.kernel.accessAllowed) {\n",
              "        return;\n",
              "      }\n",
              "      const div = document.createElement('div');\n",
              "      const label = document.createElement('label');\n",
              "      label.textContent = `Downloading \"${filename}\": `;\n",
              "      div.appendChild(label);\n",
              "      const progress = document.createElement('progress');\n",
              "      progress.max = size;\n",
              "      div.appendChild(progress);\n",
              "      document.body.appendChild(div);\n",
              "\n",
              "      const buffers = [];\n",
              "      let downloaded = 0;\n",
              "\n",
              "      const channel = await google.colab.kernel.comms.open(id);\n",
              "      // Send a message to notify the kernel that we're ready.\n",
              "      channel.send({})\n",
              "\n",
              "      for await (const message of channel.messages) {\n",
              "        // Send a message to notify the kernel that we're ready.\n",
              "        channel.send({})\n",
              "        if (message.buffers) {\n",
              "          for (const buffer of message.buffers) {\n",
              "            buffers.push(buffer);\n",
              "            downloaded += buffer.byteLength;\n",
              "            progress.value = downloaded;\n",
              "          }\n",
              "        }\n",
              "      }\n",
              "      const blob = new Blob(buffers, {type: 'application/binary'});\n",
              "      const a = document.createElement('a');\n",
              "      a.href = window.URL.createObjectURL(blob);\n",
              "      a.download = filename;\n",
              "      div.appendChild(a);\n",
              "      a.click();\n",
              "      div.remove();\n",
              "    }\n",
              "  "
            ],
            "text/plain": [
              "<IPython.core.display.Javascript object>"
            ]
          },
          "metadata": {
            "tags": []
          }
        },
        {
          "output_type": "display_data",
          "data": {
            "application/javascript": [
              "download(\"download_dd72da31-136e-4349-bd0a-798d286b3fa6\", \"clf.pkl\", 4561646)"
            ],
            "text/plain": [
              "<IPython.core.display.Javascript object>"
            ]
          },
          "metadata": {
            "tags": []
          }
        }
      ]
    },
    {
      "cell_type": "code",
      "metadata": {
        "colab": {
          "base_uri": "https://localhost:8080/"
        },
        "id": "jjbXdvUBl5TE",
        "outputId": "3acc81b7-7715-4afb-b90e-1b2ca7debe3e"
      },
      "source": [
        "from sklearn.multiclass import OneVsRestClassifier\n",
        "from sklearn.model_selection import GridSearchCV\n",
        "from sklearn.tree import DecisionTreeClassifier\n",
        "from sklearn.ensemble import RandomForestClassifier\n",
        "from sklearn.linear_model import LogisticRegression\n",
        "from sklearn.model_selection import KFold\n",
        "from sklearn.svm import SVC\n",
        "from sklearn import metrics\n",
        "import time\n",
        "import datetime\n",
        "from sklearn.preprocessing import StandardScaler\n",
        "X_train, X_test, y_train, y_test = train_test_split(data_mean, last_thing, test_size=0.33, random_state=42)\n",
        "\n",
        "start_time = datetime.datetime.now()\n",
        "fold = KFold(n_splits=5, shuffle=True, random_state=241)\n",
        "parameters = {'C': [1]}\n",
        "clf = LogisticRegression(random_state=241,multi_class='ovr', tol=0.001)\n",
        "print(clf.get_params().keys())\n",
        "print(sorted(metrics.SCORERS.keys()))\n",
        "grid = GridSearchCV(clf, param_grid=parameters, scoring='accuracy', cv=fold)\n",
        "grid.fit(X_train, y_train)\n",
        "print('gs.best_score_:', grid.best_score_, '\\n', 'gs.best_parameters_:', grid.best_params_)\n",
        "print('Time elapsed:', datetime.datetime.now() - start_time)"
      ],
      "execution_count": null,
      "outputs": [
        {
          "output_type": "stream",
          "text": [
            "dict_keys(['C', 'class_weight', 'dual', 'fit_intercept', 'intercept_scaling', 'l1_ratio', 'max_iter', 'multi_class', 'n_jobs', 'penalty', 'random_state', 'solver', 'tol', 'verbose', 'warm_start'])\n",
            "['accuracy', 'adjusted_mutual_info_score', 'adjusted_rand_score', 'average_precision', 'balanced_accuracy', 'completeness_score', 'explained_variance', 'f1', 'f1_macro', 'f1_micro', 'f1_samples', 'f1_weighted', 'fowlkes_mallows_score', 'homogeneity_score', 'jaccard', 'jaccard_macro', 'jaccard_micro', 'jaccard_samples', 'jaccard_weighted', 'max_error', 'mutual_info_score', 'neg_brier_score', 'neg_log_loss', 'neg_mean_absolute_error', 'neg_mean_gamma_deviance', 'neg_mean_poisson_deviance', 'neg_mean_squared_error', 'neg_mean_squared_log_error', 'neg_median_absolute_error', 'neg_root_mean_squared_error', 'normalized_mutual_info_score', 'precision', 'precision_macro', 'precision_micro', 'precision_samples', 'precision_weighted', 'r2', 'recall', 'recall_macro', 'recall_micro', 'recall_samples', 'recall_weighted', 'roc_auc', 'roc_auc_ovo', 'roc_auc_ovo_weighted', 'roc_auc_ovr', 'roc_auc_ovr_weighted', 'v_measure_score']\n",
            "gs.best_score_: 0.08620441185342083 \n",
            " gs.best_parameters_: {'C': 1}\n",
            "Time elapsed: 0:04:10.395939\n"
          ],
          "name": "stdout"
        }
      ]
    },
    {
      "cell_type": "code",
      "metadata": {
        "colab": {
          "base_uri": "https://localhost:8080/"
        },
        "id": "8FAU6gVcl5H4",
        "outputId": "3a6c3728-91b9-4ee0-e57e-28bea2d61e71"
      },
      "source": [
        "proba = grid.predict_proba(X_test)\n",
        "start_time = datetime.datetime.now()\n",
        "pos = 0\n",
        "j=0\n",
        "for i in proba:\n",
        "  index = np.argpartition(i, -5)[-5:]\n",
        "  classes = grid.classes_[index]\n",
        "  if y_test[j] in classes:\n",
        "    pos += 1\n",
        "  j += 1\n",
        "accuracy = pos/len(y_test)\n",
        "print('Time elapsed:', datetime.datetime.now() - start_time)\n",
        "print(\"accuracy:\",accuracy)"
      ],
      "execution_count": null,
      "outputs": [
        {
          "output_type": "stream",
          "text": [
            "Time elapsed: 0:00:00.060154\n",
            "accuracy: 0.14758403361344538\n"
          ],
          "name": "stdout"
        }
      ]
    },
    {
      "cell_type": "code",
      "metadata": {
        "colab": {
          "base_uri": "https://localhost:8080/",
          "height": 17
        },
        "id": "4dmm-B-ZPAPm",
        "outputId": "f5cc2c61-4b1a-46aa-c450-ba61a6f02fbc"
      },
      "source": [
        "import json\n",
        "import pickle\n",
        "data_file = open(\"data.json\",'w')\n",
        "emb_file = open(\"word2vec.pkl\",'wb')\n",
        "ml_file = open(\"clf.pkl\",'wb')\n",
        "json.dump(dicti, data_file)\n",
        "pickle.dump(model, emb_file)\n",
        "pickle.dump(clf, ml_file)\n",
        "files.download(\"data.json\")\n",
        "files.download(\"word2vec.pkl\")\n",
        "files.download(\"clf.pkl\")"
      ],
      "execution_count": null,
      "outputs": [
        {
          "output_type": "display_data",
          "data": {
            "application/javascript": [
              "\n",
              "    async function download(id, filename, size) {\n",
              "      if (!google.colab.kernel.accessAllowed) {\n",
              "        return;\n",
              "      }\n",
              "      const div = document.createElement('div');\n",
              "      const label = document.createElement('label');\n",
              "      label.textContent = `Downloading \"${filename}\": `;\n",
              "      div.appendChild(label);\n",
              "      const progress = document.createElement('progress');\n",
              "      progress.max = size;\n",
              "      div.appendChild(progress);\n",
              "      document.body.appendChild(div);\n",
              "\n",
              "      const buffers = [];\n",
              "      let downloaded = 0;\n",
              "\n",
              "      const channel = await google.colab.kernel.comms.open(id);\n",
              "      // Send a message to notify the kernel that we're ready.\n",
              "      channel.send({})\n",
              "\n",
              "      for await (const message of channel.messages) {\n",
              "        // Send a message to notify the kernel that we're ready.\n",
              "        channel.send({})\n",
              "        if (message.buffers) {\n",
              "          for (const buffer of message.buffers) {\n",
              "            buffers.push(buffer);\n",
              "            downloaded += buffer.byteLength;\n",
              "            progress.value = downloaded;\n",
              "          }\n",
              "        }\n",
              "      }\n",
              "      const blob = new Blob(buffers, {type: 'application/binary'});\n",
              "      const a = document.createElement('a');\n",
              "      a.href = window.URL.createObjectURL(blob);\n",
              "      a.download = filename;\n",
              "      div.appendChild(a);\n",
              "      a.click();\n",
              "      div.remove();\n",
              "    }\n",
              "  "
            ],
            "text/plain": [
              "<IPython.core.display.Javascript object>"
            ]
          },
          "metadata": {
            "tags": []
          }
        },
        {
          "output_type": "display_data",
          "data": {
            "application/javascript": [
              "download(\"download_44cf355c-6d47-411e-a798-61c66e53bcac\", \"data.json\", 7401982)"
            ],
            "text/plain": [
              "<IPython.core.display.Javascript object>"
            ]
          },
          "metadata": {
            "tags": []
          }
        },
        {
          "output_type": "display_data",
          "data": {
            "application/javascript": [
              "\n",
              "    async function download(id, filename, size) {\n",
              "      if (!google.colab.kernel.accessAllowed) {\n",
              "        return;\n",
              "      }\n",
              "      const div = document.createElement('div');\n",
              "      const label = document.createElement('label');\n",
              "      label.textContent = `Downloading \"${filename}\": `;\n",
              "      div.appendChild(label);\n",
              "      const progress = document.createElement('progress');\n",
              "      progress.max = size;\n",
              "      div.appendChild(progress);\n",
              "      document.body.appendChild(div);\n",
              "\n",
              "      const buffers = [];\n",
              "      let downloaded = 0;\n",
              "\n",
              "      const channel = await google.colab.kernel.comms.open(id);\n",
              "      // Send a message to notify the kernel that we're ready.\n",
              "      channel.send({})\n",
              "\n",
              "      for await (const message of channel.messages) {\n",
              "        // Send a message to notify the kernel that we're ready.\n",
              "        channel.send({})\n",
              "        if (message.buffers) {\n",
              "          for (const buffer of message.buffers) {\n",
              "            buffers.push(buffer);\n",
              "            downloaded += buffer.byteLength;\n",
              "            progress.value = downloaded;\n",
              "          }\n",
              "        }\n",
              "      }\n",
              "      const blob = new Blob(buffers, {type: 'application/binary'});\n",
              "      const a = document.createElement('a');\n",
              "      a.href = window.URL.createObjectURL(blob);\n",
              "      a.download = filename;\n",
              "      div.appendChild(a);\n",
              "      a.click();\n",
              "      div.remove();\n",
              "    }\n",
              "  "
            ],
            "text/plain": [
              "<IPython.core.display.Javascript object>"
            ]
          },
          "metadata": {
            "tags": []
          }
        },
        {
          "output_type": "display_data",
          "data": {
            "application/javascript": [
              "download(\"download_7eaa6b47-4a16-4b8f-9db3-ab009fc58516\", \"word2vec.pkl\", 10470050)"
            ],
            "text/plain": [
              "<IPython.core.display.Javascript object>"
            ]
          },
          "metadata": {
            "tags": []
          }
        },
        {
          "output_type": "display_data",
          "data": {
            "application/javascript": [
              "\n",
              "    async function download(id, filename, size) {\n",
              "      if (!google.colab.kernel.accessAllowed) {\n",
              "        return;\n",
              "      }\n",
              "      const div = document.createElement('div');\n",
              "      const label = document.createElement('label');\n",
              "      label.textContent = `Downloading \"${filename}\": `;\n",
              "      div.appendChild(label);\n",
              "      const progress = document.createElement('progress');\n",
              "      progress.max = size;\n",
              "      div.appendChild(progress);\n",
              "      document.body.appendChild(div);\n",
              "\n",
              "      const buffers = [];\n",
              "      let downloaded = 0;\n",
              "\n",
              "      const channel = await google.colab.kernel.comms.open(id);\n",
              "      // Send a message to notify the kernel that we're ready.\n",
              "      channel.send({})\n",
              "\n",
              "      for await (const message of channel.messages) {\n",
              "        // Send a message to notify the kernel that we're ready.\n",
              "        channel.send({})\n",
              "        if (message.buffers) {\n",
              "          for (const buffer of message.buffers) {\n",
              "            buffers.push(buffer);\n",
              "            downloaded += buffer.byteLength;\n",
              "            progress.value = downloaded;\n",
              "          }\n",
              "        }\n",
              "      }\n",
              "      const blob = new Blob(buffers, {type: 'application/binary'});\n",
              "      const a = document.createElement('a');\n",
              "      a.href = window.URL.createObjectURL(blob);\n",
              "      a.download = filename;\n",
              "      div.appendChild(a);\n",
              "      a.click();\n",
              "      div.remove();\n",
              "    }\n",
              "  "
            ],
            "text/plain": [
              "<IPython.core.display.Javascript object>"
            ]
          },
          "metadata": {
            "tags": []
          }
        },
        {
          "output_type": "display_data",
          "data": {
            "application/javascript": [
              "download(\"download_ad466a06-5188-4c39-ad3d-62ce83b42490\", \"clf.pkl\", 0)"
            ],
            "text/plain": [
              "<IPython.core.display.Javascript object>"
            ]
          },
          "metadata": {
            "tags": []
          }
        }
      ]
    },
    {
      "cell_type": "code",
      "metadata": {
        "id": "373qSJ3km0Ia"
      },
      "source": [
        ""
      ],
      "execution_count": null,
      "outputs": []
    },
    {
      "cell_type": "code",
      "metadata": {
        "id": "1j8gcIuZm54H"
      },
      "source": [
        ""
      ],
      "execution_count": null,
      "outputs": []
    }
  ]
}
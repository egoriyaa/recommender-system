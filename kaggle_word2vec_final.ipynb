{
  "nbformat": 4,
  "nbformat_minor": 0,
  "metadata": {
    "colab": {
      "name": "kaggle_word2vec_final.ipynb",
      "provenance": [],
      "collapsed_sections": []
    },
    "kernelspec": {
      "name": "python3",
      "display_name": "Python 3"
    }
  },
  "cells": [
    {
      "cell_type": "code",
      "metadata": {
        "colab": {
          "base_uri": "https://localhost:8080/"
        },
        "id": "z1MmKRgpuBHS",
        "outputId": "2d851545-f988-4d83-8fea-532171dd360c"
      },
      "source": [
        "import pandas as pd\n",
        "import numpy as np\n",
        "from google.colab import drive\n",
        "import json\n",
        "from sklearn.model_selection import train_test_split\n",
        "from gensim.models import word2vec\n",
        "from sklearn.externals import joblib\n",
        "from google.colab import files\n",
        "import pickle\n",
        "from sklearn.linear_model import LogisticRegression\n",
        "\n",
        "drive.mount('/content/drive/')"
      ],
      "execution_count": null,
      "outputs": [
        {
          "output_type": "stream",
          "text": [
            "Drive already mounted at /content/drive/; to attempt to forcibly remount, call drive.mount(\"/content/drive/\", force_remount=True).\n"
          ],
          "name": "stdout"
        }
      ]
    },
    {
      "cell_type": "code",
      "metadata": {
        "id": "xCemZxwD_qGY"
      },
      "source": [
        "def start():\n",
        "    data_file = open(\"/content/drive/My Drive/Проект 'рекомендательная система для магазина'/data.json\",'r')\n",
        "    emb_file = open(\"/content/drive/My Drive/Проект 'рекомендательная система для магазина'/word2vec.pkl\",'rb')\n",
        "    ml_file = open(\"/content/drive/My Drive/Проект 'рекомендательная система для магазина'/clf.pkl\",'rb')\n",
        "    dictionary = json.load(data_file)\n",
        "    model = pickle.load(emb_file)\n",
        "    w2v = dict(zip(model.wv.index2word, model.wv.vectors))\n",
        "    clf = pickle.load(ml_file)\n",
        "    data_file.close()\n",
        "    emb_file.close()\n",
        "    ml_file.close()\n",
        "    return dictionary, w2v, clf\n",
        "\n",
        "def end():\n",
        "    data_file = open(\"/content/drive/My Drive/Проект 'рекомендательная система для магазина'/model.json\",'w')\n",
        "    json.dump(dictionary, data_file)\n",
        "\n",
        "def retraining():\n",
        "    one_buyers=[]\n",
        "    last_thing=[]\n",
        "    for i in dictionary.keys():\n",
        "        if len(dictionary[i])==1:\n",
        "            one_buyers.append(i)\n",
        "    for i in one_buyers:\n",
        "        del dictionary[i]\n",
        "    for i in dictionary.keys():\n",
        "        last_thing.append(dictionary[i][-1])\n",
        "    data=[]\n",
        "    for i in dictionary.keys():\n",
        "        data.append(dictionary[i])\n",
        "\n",
        "    model = word2vec.Word2Vec(data, size=300, window=3, workers=4)\n",
        "    w2v = dict(zip(model.wv.index2word, model.wv.vectors))\n",
        "    data_mean=mean_vectorizer(w2v).fit(data).transform(data)\n",
        "\n",
        "    clf = LogisticRegression(C=1, random_state=241,multi_class='ovr', tol=0.001)\n",
        "    clf.fit(data_mean, last_thing)\n",
        "\n",
        "    emb_file = open(\"/content/drive/My Drive/Проект 'рекомендательная система для магазина'/word2vec.pkl\",'wb')\n",
        "    ml_file = open(\"/content/drive/My Drive/Проект 'рекомендательная система для магазина'/clf.pkl\",'wb')\n",
        "    pickle.dump(model, emb_file)\n",
        "    pickle.dump(clf, ml_file)\n",
        "    emb_file.close()\n",
        "    ml_file.close()\n",
        "    return w2v, clf\n",
        "\n",
        "def prediction(ID_prod, ID_cust):\n",
        "    dictionary[ID_cust].append(ID_prod)\n",
        "    data = dictionary[ID_cust]\n",
        "    data = np.expand_dims(data, axis=0)\n",
        "    data_mean=mean_vectorizer(w2v).fit(data).transform(data)\n",
        "    proba = clf.predict_proba(data_mean)\n",
        "    index = np.argpartition(proba[0], -5)[-5:]\n",
        "    classes = clf.classes_[index]\n",
        "    return classes"
      ],
      "execution_count": null,
      "outputs": []
    },
    {
      "cell_type": "code",
      "metadata": {
        "id": "boYjO34MryHI"
      },
      "source": [
        "class mean_vectorizer(object):\n",
        "    def __init__(self, word2vec):\n",
        "        self.word2vec = word2vec\n",
        "        self.dim = len(next(iter(w2v.values())))\n",
        "\n",
        "    def fit(self, X):\n",
        "        return self\n",
        "\n",
        "    def transform(self, X):\n",
        "        return np.array([\n",
        "            np.mean([self.word2vec[w] for w in words if w in self.word2vec]\n",
        "                    or [np.zeros(self.dim)], axis=0)\n",
        "            for words in X\n",
        "        ])"
      ],
      "execution_count": null,
      "outputs": []
    },
    {
      "cell_type": "code",
      "metadata": {
        "id": "hJwKywjpqXwP"
      },
      "source": [
        "dictionary, w2v, clf = start() # 3 штуки, которые будут в памяти всегда лежать"
      ],
      "execution_count": null,
      "outputs": []
    },
    {
      "cell_type": "code",
      "metadata": {
        "colab": {
          "base_uri": "https://localhost:8080/"
        },
        "id": "jyqgQqkOqo5f",
        "outputId": "9bf17b38-fa25-43e5-e9ca-3e253bc95d6b"
      },
      "source": [
        "pred = prediction('85048', \"13085.0\") #первый аргумент - ID товара, второй - ID покупателя\n",
        "print(pred) # 5 наиболее вероятных товаров"
      ],
      "execution_count": null,
      "outputs": [
        {
          "output_type": "stream",
          "text": [
            "['85123A' '21232' '22138' 'M' 'POST']\n"
          ],
          "name": "stdout"
        }
      ]
    },
    {
      "cell_type": "code",
      "metadata": {
        "id": "2pwOhAN2ubl3"
      },
      "source": [
        "w2v, clf = retraining()"
      ],
      "execution_count": null,
      "outputs": []
    },
    {
      "cell_type": "code",
      "metadata": {
        "id": "Gyv5oJaCwCGQ"
      },
      "source": [
        "end()"
      ],
      "execution_count": null,
      "outputs": []
    },
    {
      "cell_type": "code",
      "metadata": {
        "id": "rS9GbNzMxHo0"
      },
      "source": [
        ""
      ],
      "execution_count": null,
      "outputs": []
    }
  ]
}